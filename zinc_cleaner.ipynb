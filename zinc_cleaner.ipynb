{
 "cells": [
  {
   "cell_type": "code",
   "execution_count": 8,
   "metadata": {},
   "outputs": [
    {
     "name": "stdout",
     "output_type": "stream",
     "text": [
      "                                              smiles     logP       qed  \\\n",
      "0            CC(C)(C)c1ccc2occ(CC(=O)Nc3ccccc3F)c2c1  5.05060  0.702012   \n",
      "1       C[C@@H]1CC(Nc2cncc(-c3nncn3C)c2)C[C@@H](C)C1  3.11370  0.928975   \n",
      "2  N#Cc1ccc(-c2ccc(O[C@@H](C(=O)N3CCCC3)c3ccccc3)...  4.96778  0.599682   \n",
      "3  CCOC(=O)[C@@H]1CCCN(C(=O)c2nc(-c3ccc(C)cc3)n3c...  4.00022  0.690944   \n",
      "4  N#CC1=C(SCC(=O)Nc2cccc(Cl)c2)N=C([O-])[C@H](C#...  3.60956  0.789027   \n",
      "\n",
      "        SAS  \n",
      "0  2.084095  \n",
      "1  3.432004  \n",
      "2  2.470633  \n",
      "3  2.822753  \n",
      "4  4.035182  \n"
     ]
    }
   ],
   "source": [
    "import pandas as pd\n",
    "\n",
    "zinc = pd.read_csv('250k_rndm_zinc_drugs_clean_3.csv')\n",
    "zinc = zinc.dropna()\n",
    "print(zinc.head())"
   ]
  },
  {
   "cell_type": "code",
   "execution_count": 11,
   "metadata": {},
   "outputs": [
    {
     "name": "stdout",
     "output_type": "stream",
     "text": [
      "                                              smiles     logP       qed  \\\n",
      "0            CC(C)(C)c1ccc2occ(CC(=O)Nc3ccccc3F)c2c1  5.05060  0.702012   \n",
      "1       C[C@@H]1CC(Nc2cncc(-c3nncn3C)c2)C[C@@H](C)C1  3.11370  0.928975   \n",
      "2  N#Cc1ccc(-c2ccc(O[C@@H](C(=O)N3CCCC3)c3ccccc3)...  4.96778  0.599682   \n",
      "3  CCOC(=O)[C@@H]1CCCN(C(=O)c2nc(-c3ccc(C)cc3)n3c...  4.00022  0.690944   \n",
      "4  N#CC1=C(SCC(=O)Nc2cccc(Cl)c2)N=C([O-])[C@H](C#...  3.60956  0.789027   \n",
      "\n",
      "        SAS                                          canonical  \n",
      "0  2.084095            CC(C)(C)c1ccc2occ(CC(=O)Nc3ccccc3F)c2c1  \n",
      "1  3.432004       C[C@@H]1CC(Nc2cncc(-c3nncn3C)c2)C[C@@H](C)C1  \n",
      "2  2.470633  N#Cc1ccc(-c2ccc(O[C@@H](C(=O)N3CCCC3)c3ccccc3)...  \n",
      "3  2.822753  CCOC(=O)[C@@H]1CCCN(C(=O)c2nc(-c3ccc(C)cc3)n3c...  \n",
      "4  4.035182  N#CC1=C(SCC(=O)Nc2cccc(Cl)c2)N=C([O-])[C@H](C#...  \n",
      "                logP            qed            SAS\n",
      "count  249455.000000  249455.000000  249455.000000\n",
      "mean        2.457093       0.728264       3.053235\n",
      "std         1.434330       0.139565       0.834796\n",
      "min        -6.876200       0.111811       1.132738\n",
      "25%         1.574810       0.645872       2.416627\n",
      "50%         2.605600       0.759878       2.892993\n",
      "75%         3.486760       0.835714       3.545533\n",
      "max         8.252100       0.947882       7.289283\n"
     ]
    },
    {
     "ename": "",
     "evalue": "",
     "output_type": "error",
     "traceback": [
      "\u001b[1;31mThe Kernel crashed while executing code in the the current cell or a previous cell. Please review the code in the cell(s) to identify a possible cause of the failure. Click <a href='https://aka.ms/vscodeJupyterKernelCrash'>here</a> for more info. View Jupyter <a href='command:jupyter.viewOutput'>log</a> for further details."
     ]
    }
   ],
   "source": [
    "#remove duplicates and cannonize\n",
    "from rdkit import Chem\n",
    "\n",
    "zinc['canonical'] = zinc['smiles'].apply(Chem.CanonSmiles)\n",
    "zinc = zinc.drop_duplicates(subset='canonical')\n",
    "print(zinc.head())\n",
    "print(zinc.describe())"
   ]
  }
 ],
 "metadata": {
  "kernelspec": {
   "display_name": "bioinf",
   "language": "python",
   "name": "python3"
  },
  "language_info": {
   "codemirror_mode": {
    "name": "ipython",
    "version": 3
   },
   "file_extension": ".py",
   "mimetype": "text/x-python",
   "name": "python",
   "nbconvert_exporter": "python",
   "pygments_lexer": "ipython3",
   "version": "3.9.18"
  }
 },
 "nbformat": 4,
 "nbformat_minor": 2
}
